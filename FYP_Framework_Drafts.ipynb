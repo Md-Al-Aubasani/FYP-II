{
  "nbformat": 4,
  "nbformat_minor": 0,
  "metadata": {
    "colab": {
      "provenance": []
    },
    "kernelspec": {
      "name": "python3",
      "display_name": "Python 3"
    },
    "language_info": {
      "name": "python"
    }
  },
  "cells": [
    {
      "cell_type": "markdown",
      "source": [
        "# Baseline RAG model\n",
        "\n",
        "This is just the RAG model on the sample of a patient's record"
      ],
      "metadata": {
        "id": "hso6uQmypVsx"
      }
    },
    {
      "cell_type": "code",
      "execution_count": null,
      "metadata": {
        "colab": {
          "base_uri": "https://localhost:8080/"
        },
        "id": "IRwNpkAhh6cA",
        "outputId": "6a6cf4a6-868f-47d8-f769-a34d5d1b0829"
      },
      "outputs": [
        {
          "output_type": "stream",
          "name": "stdout",
          "text": [
            "\u001b[2K     \u001b[90m━━━━━━━━━━━━━━━━━━━━━━━━━━━━━━━━━━━━━━━━\u001b[0m \u001b[32m974.6/974.6 kB\u001b[0m \u001b[31m10.5 MB/s\u001b[0m eta \u001b[36m0:00:00\u001b[0m\n",
            "\u001b[2K     \u001b[90m━━━━━━━━━━━━━━━━━━━━━━━━━━━━━━━━━━━━━━━━\u001b[0m \u001b[32m309.4/309.4 kB\u001b[0m \u001b[31m13.8 MB/s\u001b[0m eta \u001b[36m0:00:00\u001b[0m\n",
            "\u001b[2K     \u001b[90m━━━━━━━━━━━━━━━━━━━━━━━━━━━━━━━━━━━━━━━━\u001b[0m \u001b[32m227.1/227.1 kB\u001b[0m \u001b[31m11.3 MB/s\u001b[0m eta \u001b[36m0:00:00\u001b[0m\n",
            "\u001b[2K     \u001b[90m━━━━━━━━━━━━━━━━━━━━━━━━━━━━━━━━━━━━━━━━\u001b[0m \u001b[32m1.2/1.2 MB\u001b[0m \u001b[31m21.7 MB/s\u001b[0m eta \u001b[36m0:00:00\u001b[0m\n",
            "\u001b[2K     \u001b[90m━━━━━━━━━━━━━━━━━━━━━━━━━━━━━━━━━━━━━━━━\u001b[0m \u001b[32m8.6/8.6 MB\u001b[0m \u001b[31m49.9 MB/s\u001b[0m eta \u001b[36m0:00:00\u001b[0m\n",
            "\u001b[2K     \u001b[90m━━━━━━━━━━━━━━━━━━━━━━━━━━━━━━━━━━━━━━━━\u001b[0m \u001b[32m27.0/27.0 MB\u001b[0m \u001b[31m32.6 MB/s\u001b[0m eta \u001b[36m0:00:00\u001b[0m\n",
            "\u001b[2K     \u001b[90m━━━━━━━━━━━━━━━━━━━━━━━━━━━━━━━━━━━━━━━━\u001b[0m \u001b[32m85.5/85.5 MB\u001b[0m \u001b[31m8.7 MB/s\u001b[0m eta \u001b[36m0:00:00\u001b[0m\n",
            "\u001b[2K     \u001b[90m━━━━━━━━━━━━━━━━━━━━━━━━━━━━━━━━━━━━━━━━\u001b[0m \u001b[32m1.1/1.1 MB\u001b[0m \u001b[31m38.7 MB/s\u001b[0m eta \u001b[36m0:00:00\u001b[0m\n",
            "\u001b[2K     \u001b[90m━━━━━━━━━━━━━━━━━━━━━━━━━━━━━━━━━━━━━━━━\u001b[0m \u001b[32m290.4/290.4 kB\u001b[0m \u001b[31m24.2 MB/s\u001b[0m eta \u001b[36m0:00:00\u001b[0m\n",
            "\u001b[2K     \u001b[90m━━━━━━━━━━━━━━━━━━━━━━━━━━━━━━━━━━━━━━━━\u001b[0m \u001b[32m2.2/2.2 MB\u001b[0m \u001b[31m58.3 MB/s\u001b[0m eta \u001b[36m0:00:00\u001b[0m\n",
            "\u001b[2K     \u001b[90m━━━━━━━━━━━━━━━━━━━━━━━━━━━━━━━━━━━━━━━━\u001b[0m \u001b[32m2.0/2.0 MB\u001b[0m \u001b[31m80.4 MB/s\u001b[0m eta \u001b[36m0:00:00\u001b[0m\n",
            "\u001b[2K     \u001b[90m━━━━━━━━━━━━━━━━━━━━━━━━━━━━━━━━━━━━━━━━\u001b[0m \u001b[32m657.6/657.6 kB\u001b[0m \u001b[31m36.9 MB/s\u001b[0m eta \u001b[36m0:00:00\u001b[0m\n",
            "\u001b[2K     \u001b[90m━━━━━━━━━━━━━━━━━━━━━━━━━━━━━━━━━━━━━━━━\u001b[0m \u001b[32m321.8/321.8 kB\u001b[0m \u001b[31m3.2 MB/s\u001b[0m eta \u001b[36m0:00:00\u001b[0m\n",
            "\u001b[2K     \u001b[90m━━━━━━━━━━━━━━━━━━━━━━━━━━━━━━━━━━━━━━━━\u001b[0m \u001b[32m127.1/127.1 kB\u001b[0m \u001b[31m14.4 MB/s\u001b[0m eta \u001b[36m0:00:00\u001b[0m\n",
            "\u001b[2K     \u001b[90m━━━━━━━━━━━━━━━━━━━━━━━━━━━━━━━━━━━━━━━━\u001b[0m \u001b[32m21.3/21.3 MB\u001b[0m \u001b[31m66.7 MB/s\u001b[0m eta \u001b[36m0:00:00\u001b[0m\n",
            "\u001b[2K     \u001b[90m━━━━━━━━━━━━━━━━━━━━━━━━━━━━━━━━━━━━━━━━\u001b[0m \u001b[32m207.3/207.3 kB\u001b[0m \u001b[31m20.8 MB/s\u001b[0m eta \u001b[36m0:00:00\u001b[0m\n",
            "\u001b[2K     \u001b[90m━━━━━━━━━━━━━━━━━━━━━━━━━━━━━━━━━━━━━━━━\u001b[0m \u001b[32m6.9/6.9 MB\u001b[0m \u001b[31m92.1 MB/s\u001b[0m eta \u001b[36m0:00:00\u001b[0m\n",
            "\u001b[2K     \u001b[90m━━━━━━━━━━━━━━━━━━━━━━━━━━━━━━━━━━━━━━━━\u001b[0m \u001b[32m83.0/83.0 kB\u001b[0m \u001b[31m9.4 MB/s\u001b[0m eta \u001b[36m0:00:00\u001b[0m\n",
            "\u001b[2K     \u001b[90m━━━━━━━━━━━━━━━━━━━━━━━━━━━━━━━━━━━━━━━━\u001b[0m \u001b[32m75.6/75.6 kB\u001b[0m \u001b[31m7.9 MB/s\u001b[0m eta \u001b[36m0:00:00\u001b[0m\n",
            "\u001b[2K     \u001b[90m━━━━━━━━━━━━━━━━━━━━━━━━━━━━━━━━━━━━━━━━\u001b[0m \u001b[32m145.0/145.0 kB\u001b[0m \u001b[31m17.0 MB/s\u001b[0m eta \u001b[36m0:00:00\u001b[0m\n",
            "\u001b[2K     \u001b[90m━━━━━━━━━━━━━━━━━━━━━━━━━━━━━━━━━━━━━━━━\u001b[0m \u001b[32m15.4/15.4 MB\u001b[0m \u001b[31m80.3 MB/s\u001b[0m eta \u001b[36m0:00:00\u001b[0m\n",
            "\u001b[2K     \u001b[90m━━━━━━━━━━━━━━━━━━━━━━━━━━━━━━━━━━━━━━━━\u001b[0m \u001b[32m2.0/2.0 MB\u001b[0m \u001b[31m68.3 MB/s\u001b[0m eta \u001b[36m0:00:00\u001b[0m\n",
            "\u001b[2K     \u001b[90m━━━━━━━━━━━━━━━━━━━━━━━━━━━━━━━━━━━━━━━━\u001b[0m \u001b[32m141.9/141.9 kB\u001b[0m \u001b[31m14.4 MB/s\u001b[0m eta \u001b[36m0:00:00\u001b[0m\n",
            "\u001b[2K     \u001b[90m━━━━━━━━━━━━━━━━━━━━━━━━━━━━━━━━━━━━━━━━\u001b[0m \u001b[32m327.4/327.4 kB\u001b[0m \u001b[31m30.9 MB/s\u001b[0m eta \u001b[36m0:00:00\u001b[0m\n",
            "\u001b[2K     \u001b[90m━━━━━━━━━━━━━━━━━━━━━━━━━━━━━━━━━━━━━━━━\u001b[0m \u001b[32m431.4/431.4 kB\u001b[0m \u001b[31m39.3 MB/s\u001b[0m eta \u001b[36m0:00:00\u001b[0m\n",
            "\u001b[2K     \u001b[90m━━━━━━━━━━━━━━━━━━━━━━━━━━━━━━━━━━━━━━━━\u001b[0m \u001b[32m274.7/274.7 kB\u001b[0m \u001b[31m22.5 MB/s\u001b[0m eta \u001b[36m0:00:00\u001b[0m\n",
            "\u001b[2K     \u001b[90m━━━━━━━━━━━━━━━━━━━━━━━━━━━━━━━━━━━━━━━━\u001b[0m \u001b[32m981.5/981.5 kB\u001b[0m \u001b[31m42.8 MB/s\u001b[0m eta \u001b[36m0:00:00\u001b[0m\n",
            "\u001b[?25h  Preparing metadata (setup.py) ... \u001b[?25l\u001b[?25hdone\n",
            "\u001b[2K     \u001b[90m━━━━━━━━━━━━━━━━━━━━━━━━━━━━━━━━━━━━━━━━\u001b[0m \u001b[32m3.4/3.4 MB\u001b[0m \u001b[31m90.1 MB/s\u001b[0m eta \u001b[36m0:00:00\u001b[0m\n",
            "\u001b[2K     \u001b[90m━━━━━━━━━━━━━━━━━━━━━━━━━━━━━━━━━━━━━━━━\u001b[0m \u001b[32m41.0/41.0 kB\u001b[0m \u001b[31m4.6 MB/s\u001b[0m eta \u001b[36m0:00:00\u001b[0m\n",
            "\u001b[2K     \u001b[90m━━━━━━━━━━━━━━━━━━━━━━━━━━━━━━━━━━━━━━━━\u001b[0m \u001b[32m49.2/49.2 kB\u001b[0m \u001b[31m5.1 MB/s\u001b[0m eta \u001b[36m0:00:00\u001b[0m\n",
            "\u001b[2K     \u001b[90m━━━━━━━━━━━━━━━━━━━━━━━━━━━━━━━━━━━━━━━━\u001b[0m \u001b[32m62.7/62.7 kB\u001b[0m \u001b[31m6.5 MB/s\u001b[0m eta \u001b[36m0:00:00\u001b[0m\n",
            "\u001b[2K     \u001b[90m━━━━━━━━━━━━━━━━━━━━━━━━━━━━━━━━━━━━━━━━\u001b[0m \u001b[32m77.9/77.9 kB\u001b[0m \u001b[31m6.6 MB/s\u001b[0m eta \u001b[36m0:00:00\u001b[0m\n",
            "\u001b[2K     \u001b[90m━━━━━━━━━━━━━━━━━━━━━━━━━━━━━━━━━━━━━━━━\u001b[0m \u001b[32m58.3/58.3 kB\u001b[0m \u001b[31m6.7 MB/s\u001b[0m eta \u001b[36m0:00:00\u001b[0m\n",
            "\u001b[2K     \u001b[90m━━━━━━━━━━━━━━━━━━━━━━━━━━━━━━━━━━━━━━━━\u001b[0m \u001b[32m80.8/80.8 kB\u001b[0m \u001b[31m9.6 MB/s\u001b[0m eta \u001b[36m0:00:00\u001b[0m\n",
            "\u001b[2K     \u001b[90m━━━━━━━━━━━━━━━━━━━━━━━━━━━━━━━━━━━━━━━━\u001b[0m \u001b[32m54.5/54.5 kB\u001b[0m \u001b[31m6.2 MB/s\u001b[0m eta \u001b[36m0:00:00\u001b[0m\n",
            "\u001b[?25h  Building wheel for langdetect (setup.py) ... \u001b[?25l\u001b[?25hdone\n"
          ]
        }
      ],
      "source": [
        "!pip install -r '/content/requirements.txt' -q"
      ]
    },
    {
      "cell_type": "code",
      "source": [
        "#attach drive\n",
        "from google.colab import drive\n",
        "drive.mount('/content/drive')"
      ],
      "metadata": {
        "colab": {
          "base_uri": "https://localhost:8080/"
        },
        "id": "nJrZUi3yiVsx",
        "outputId": "bb39ed24-f3bb-431c-94c8-79c1ee21f6ee"
      },
      "execution_count": null,
      "outputs": [
        {
          "output_type": "stream",
          "name": "stdout",
          "text": [
            "Mounted at /content/drive\n"
          ]
        }
      ]
    },
    {
      "cell_type": "code",
      "source": [
        "import warnings\n",
        "warnings.filterwarnings(\"ignore\")"
      ],
      "metadata": {
        "id": "UKC5ZZM_qhlR"
      },
      "execution_count": null,
      "outputs": []
    },
    {
      "cell_type": "code",
      "source": [
        "from langchain_community.document_loaders import TextLoader\n",
        "from langchain_mistralai.chat_models import ChatMistralAI\n",
        "from langchain_mistralai.embeddings import MistralAIEmbeddings\n",
        "from langchain_community.vectorstores import FAISS\n",
        "from langchain.text_splitter import RecursiveCharacterTextSplitter\n",
        "from langchain.chains.combine_documents import create_stuff_documents_chain\n",
        "from langchain_core.prompts import ChatPromptTemplate\n",
        "from langchain.chains import create_retrieval_chain\n",
        "\n",
        "from langchain.embeddings.huggingface import HuggingFaceEmbeddings\n",
        "\n",
        "\n",
        "api_key = \"YOUR_API_KEY\"\n",
        "\n",
        "drive_dataset_path = '/content/drive/MyDrive/dataset_folder/'\n",
        "drive_faiss_path = '/content/drive/MyDrive/faiss_index_full'\n",
        "drive_trad_model_path = '/content/drive/MyDrive/traditional_med_model/'\n",
        "\n",
        "# /content/drive/MyDrive/dataset_folder/health_report_{0}/health_report_{0}.txt\n",
        "\n",
        "# Load data a sample health record for testing the framework draft\n",
        "loader = TextLoader(drive_dataset_path+\"health_report_{0}/health_report_{0}.txt\")\n",
        "docs = loader.load()\n",
        "\n",
        "# Split text into chunks\n",
        "text_splitter = RecursiveCharacterTextSplitter()\n",
        "documents = text_splitter.split_documents(docs)\n",
        "\n",
        "# Define the embedding model\n",
        "# can be from MistralAI or a locally loaded embedding model\n",
        "# embeddings = MistralAIEmbeddings(model=\"mistral-embed\", mistral_api_key=api_key)\n",
        "embeddings= HuggingFaceEmbeddings(model_name=\"all-MiniLM-L6-v2\")\n",
        "\n",
        "# Create the vector store for the user\n",
        "vector = FAISS.from_documents(documents, embeddings)\n",
        "# Define a retriever interface for the user vector store\n",
        "retriever = vector.as_retriever()\n",
        "\n",
        "# Define LLM\n",
        "# open-mixtral-8x7b\n",
        "model = ChatMistralAI(mistral_api_key=api_key)\n",
        "\n",
        "\n",
        "# Define prompt template\n",
        "prompt = ChatPromptTemplate.from_template(\"\"\"\n",
        "You are a helpful, respectful and honest medical bot. Always answer as\n",
        "helpfully as possible, while being safe.\n",
        "\n",
        "If a question does not make any sense, or is not factually coherent, explain\n",
        "why instead of answering something not correct. If you don't know the answer\n",
        "to a question, please don't share false information.\n",
        "\n",
        "Answer the following question based only on the provided context:\n",
        "\n",
        "<context>\n",
        "{context}\n",
        "</context>\n",
        "\n",
        "Question: {input}\"\"\")\n",
        "\n",
        "# Create a retrieval chain to answer questions\n",
        "document_chain = create_stuff_documents_chain(model, prompt)\n",
        "retrieval_chain = create_retrieval_chain(retriever, document_chain)"
      ],
      "metadata": {
        "id": "cB5J6DJiiZDr"
      },
      "execution_count": null,
      "outputs": []
    },
    {
      "cell_type": "code",
      "source": [
        "# genearating a response from the basaeline RAG model\n",
        "response = retrieval_chain.invoke({\"input\": \"What is are the symptoms of the person in question?\"})\n",
        "print(response[\"answer\"])"
      ],
      "metadata": {
        "colab": {
          "base_uri": "https://localhost:8080/"
        },
        "id": "Y2yH3omjiZ2i",
        "outputId": "3a12fab6-ec63-4d92-e97f-6912c7fe3dad"
      },
      "execution_count": null,
      "outputs": [
        {
          "output_type": "stream",
          "name": "stdout",
          "text": [
            "The symptoms described by the 57-year-old female in the context are:\n",
            "\n",
            "1. Suddenly vomiting blood (or spitting out blood) for two consecutive days, which occurs in the night.\n",
            "2. Bleeding from the gums, which she notices when she wakes up.\n",
            "3. Swollen teeth.\n",
            "4. Shortness of breath (panting) while walking.\n",
            "5. She also mentions softness, which could be referring to weakness, but it's not entirely clear from the context.\n",
            "\n",
            "However, it's important to note that she has a history of hypertension. The healthcare professional in the conversation also suggests that her symptoms could be related to cardiopulmonary function, indicating potential heart or lung issues. \n",
            "\n",
            "Please consult with a healthcare professional for a thorough examination and accurate diagnosis.\n"
          ]
        }
      ]
    },
    {
      "cell_type": "markdown",
      "source": [
        "# RAG with Relevant Medical Facts\n",
        "\n",
        "Here we are performing RAG on both the user patient data and medical facts, to gather relevant info from both and generate a desired augmented response"
      ],
      "metadata": {
        "id": "ptKgwR4Upt5j"
      }
    },
    {
      "cell_type": "code",
      "source": [
        "# Defining a Vector store of the Medical textbooks in the drive\n",
        "\n",
        "vector_db = FAISS.load_local('/content/drive/MyDrive/faiss_index_full', embeddings, allow_dangerous_deserialization=True)"
      ],
      "metadata": {
        "id": "RLb0rbGyp6rj"
      },
      "execution_count": null,
      "outputs": []
    },
    {
      "cell_type": "code",
      "source": [
        "# performing a simple similarity search on a prompt\n",
        "docs_and_scores = vector_db.similarity_search_with_score(\"what is first aid?\")\n",
        "\n",
        "docs_and_scores[:][:][0]"
      ],
      "metadata": {
        "colab": {
          "base_uri": "https://localhost:8080/"
        },
        "id": "A9V70xc3qoUu",
        "outputId": "61ffe2f1-2b3e-4ce4-dcd5-185c007395a0"
      },
      "execution_count": null,
      "outputs": [
        {
          "output_type": "execute_result",
          "data": {
            "text/plain": [
              "(Document(page_content='First Aid for the Medicine Clerkship $42.95 Review McGraw-Hill, 2005, 2nd ed., 416 pages, ISBN 9780071448758 A high-yield review of symptoms and diseases. Pros: A comprehensive review that is well organized by symptom with good illustrations, scenarios, diagrams, algorithms, and mnemonics. Cons: May not be suited to readers who prefer information arranged in text form. May be too basic for certain topics. Summary: An excellent, concise review of medicine for those who prefer its format. Underground Clinical Vignettes: Emergency Medicine $22.95 Review', metadata={'source': '/content/textbooks/chunk/First_Aid_Step2.jsonl', 'seq_num': 1295}),\n",
              " 0.9970927)"
            ]
          },
          "metadata": {},
          "execution_count": 14
        }
      ]
    },
    {
      "cell_type": "code",
      "source": [
        "# viewing all retieved info for the sample prompt given above\n",
        "for doc, score in docs_and_scores:\n",
        "    print(f\"Content: {doc.page_content}\")"
      ],
      "metadata": {
        "colab": {
          "base_uri": "https://localhost:8080/"
        },
        "id": "jccMtoH7rA4E",
        "outputId": "de28e41a-6d29-467e-9a99-5bf34db3b933"
      },
      "execution_count": null,
      "outputs": [
        {
          "output_type": "stream",
          "name": "stdout",
          "text": [
            "Content: First Aid for the Medicine Clerkship $42.95 Review McGraw-Hill, 2005, 2nd ed., 416 pages, ISBN 9780071448758 A high-yield review of symptoms and diseases. Pros: A comprehensive review that is well organized by symptom with good illustrations, scenarios, diagrams, algorithms, and mnemonics. Cons: May not be suited to readers who prefer information arranged in text form. May be too basic for certain topics. Summary: An excellent, concise review of medicine for those who prefer its format. Underground Clinical Vignettes: Emergency Medicine $22.95 Review\n",
            "Content: First aid includes horizontal positioning (especially if there are cerebral manifestations), intravenous fluids if available, and sustained 100% oxygen administration. The latter accelerates inert gas washout from tissues and promotes resolution of bubbles. Definitive treatment of DCS or CAGE with recompression and hyperbaric oxygen is justified in most instances, although some mild or marginal DCS cases may be managed with first aid measures, an option that may be invoked under various circumstances, but especially if evacuation for recompression is hazardous or extremely difficult. Long-distance evacuations are usually undertaken using a helicopter flying at low altitude or a fixed wing air ambulance pressurized to 1 atmosphere pressure.\n",
            "Content: A First Aid for the Basic Sciences: General Principles Le McGraw-Hill, 2017, 528 pages Review $55 A First Aid Cases for the USMLE Step 1 Le McGraw-Hill, 2018, 496 pages Cases $50 A– First Aid for the Basic Sciences: Organ Systems Le McGraw-Hill, 2017, 912 pages Review $72 A– Crush Step 1: The Ultimate USMLE Step 1 Review O’Connell Elsevier, 2017, 704 pages Review $45 A– Cracking the USMLE Step 1 Princeton Review Princeton Review, 2013, 832 pages Review $45 B+ USMLE Step 1 Secrets in Color Brown Elsevier, 2016, 800 pages, ISBN 9780323396790 Review $43 B+ Step-Up to USMLE Step 1 2015 Jenkins Lippincott Williams & Wilkins, 2014, 528 pages Review $50 B+ USMLE Step 1 Lecture Notes 2018 Kaplan Kaplan Medical, 2018, ~2700 pages Review $330 B+ USMLE Images for the Boards: A Comprehensive Image-Based Review Tully Elsevier, 2012, 296 pages Review $42 B USMLE Step 1 Made Ridiculously Simple Carl MedMaster, 2017, 416 pages, Review/Test 1000 q $30 B medEssentials for the USMLE Step 1 Manley\n",
            "Content: The recognition that much of the morbidity and mortality are determined at the scene of an injury has stimulated the development of prevention measures. The Haddon matrix combines the epidemiologic components (host, agent, physical and social environments) with time factors (before, during, and after the event) to identify effective interventions focused on different aspects of the injury event. Primary strategies (preventing the event), secondary strategies (minimizing the severity of injury), and tertiary strategies (minimizing longterm impact) can be targeted for each epidemiologic component. Such strategies typically fall into one of three areas: education, enforcement, and environment (including engineering). Education is often the first strategy considered but requires behavioral change and actions on the part of people. Most educational strategies are not well evaluated.\n"
          ]
        }
      ]
    },
    {
      "cell_type": "code",
      "source": [
        "# Define prompt template for performing RAG on both the vector stores\n",
        "prompt = ChatPromptTemplate.from_template(\"\"\"\n",
        "You are a helpful, respectful and honest medical bot. Always answer as\n",
        "helpfully as possible, while being safe.\n",
        "\n",
        "If a question does not make any sense, or is not factually coherent, explain\n",
        "why instead of answering something not correct. If you don't know the answer\n",
        "to a question, please don't share false information.\n",
        "\n",
        "Answer the following question based only on the user info:\n",
        "\n",
        "<user_info>\n",
        "{user_info}\n",
        "</user_info>\n",
        "\n",
        "You can look at the context to see if it is relevant and can help the medical suggestion you're making.\n",
        "<context>\n",
        "{context}\n",
        "</context>\n",
        "\n",
        "Question: {input}\"\"\")\n",
        "\n",
        "# docs_and_scores = vector_db.similarity_search_with_score(\"what is first aid?\")\n",
        "\n",
        "\n",
        "# retriever for the medical vector store\n",
        "vector_db_retriever = vector_db.as_retriever()\n",
        "\n",
        "# Create a retrieval chain to answer questions using the Medcial vector retriever\n",
        "document_chain = create_stuff_documents_chain(model, prompt)\n",
        "retrieval_chain = create_retrieval_chain(vector_db_retriever, document_chain)\n",
        "\n",
        "#sample prompt to the LLM\n",
        "input = \"What is are the symptoms of the person in question?\"\n",
        "\n",
        "# retrieving releavant user context\n",
        "docs_and_scores = vector.similarity_search_with_score(input)\n",
        "user_info = [doc.page_content for doc, score in docs_and_scores]\n",
        "\n",
        "\n",
        "# generating the desired response with the medical retrieval chain\n",
        "response = retrieval_chain.invoke({\"input\": input, \"user_info\": user_info})\n",
        "print(response[\"answer\"])"
      ],
      "metadata": {
        "colab": {
          "base_uri": "https://localhost:8080/"
        },
        "id": "piXyptgyssyK",
        "outputId": "14ac06dd-48bb-4a6d-d3cd-e6fa72c6008d"
      },
      "execution_count": null,
      "outputs": [
        {
          "output_type": "stream",
          "name": "stdout",
          "text": [
            "Based on the provided user information, the following symptoms can be identified for the person in question:\n",
            "\n",
            "1. Pain around the navel for around 2-3 days.\n",
            "2. The pain is not constant and comes and goes.\n",
            "3. No medication or examination has been done yet.\n",
            "4. Stool is normal.\n",
            "5. No symptoms of vomiting or fainting.\n",
            "6. There is a feeling of bloating and decreased appetite.\n",
            "7. Initially, there were symptoms similar to diarrhea, but it has improved.\n",
            "\n",
            "Additionally, based on the context provided, the following symptoms are also relevant to the conditions mentioned:\n",
            "\n",
            "1. Two or more gastrointestinal symptoms (navel pain, bloating, and earlier diarrhea symptoms)\n",
            "2. No specific sexual symptom is mentioned in the user information.\n",
            "3. There is no pseudoneurological symptom mentioned in the user information.\n",
            "\n",
            "The context also mentions that when symptoms persist, there can be symptoms of anxiety, depression, intolerance of noise, emotional excitement, and crowds, as well as other symptoms such as tenseness, restlessness, fragmentation of sleep, inability to concentrate, feelings of nervousness, fatigue, worry, apprehension, and an inability to tolerate the usual amount of alcohol. However, these symptoms are not explicitly mentioned in the user information provided.\n"
          ]
        }
      ]
    }
  ]
}